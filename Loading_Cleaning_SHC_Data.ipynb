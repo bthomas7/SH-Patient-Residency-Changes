{
 "cells": [
  {
   "cell_type": "markdown",
   "metadata": {},
   "source": [
    "## Loading & Cleaning SH Clinic Data"
   ]
  },
  {
   "cell_type": "code",
   "execution_count": null,
   "metadata": {},
   "outputs": [],
   "source": [
    "import pandas as pd\n",
    "import pandas_profiling\n",
    "\n",
    "%matplotlib inline"
   ]
  },
  {
   "cell_type": "markdown",
   "metadata": {},
   "source": [
    "### Read in Siloam Data and merge with geocoded addresses. \n",
    "Addresses were geocoded by subsets on Year_FirstVisit. (See 'SH Geocoding Addresses.ipynb' notebook)"
   ]
  },
  {
   "cell_type": "code",
   "execution_count": null,
   "metadata": {},
   "outputs": [],
   "source": [
    "year_list = ['2011','2012','2013','2014','2015','2016','2017','2018'] # dropping 2010 and 2019 as they are partial years\n",
    "sh_df_geocoded = []\n",
    "    \n",
    "for year in year_list:\n",
    "    df_1 = pd.read_csv('data/sh_deid_datapull_20180427.csv')\n",
    "    df_1['Year_FirstVisit'] = df_1['Year_FirstVisit'].astype(str)\n",
    "\n",
    "    # subset source df on Year_FirstVisit\n",
    "    df_1 = df_1.loc[df_1.Year_FirstVisit == year].reset_index(drop=True)\n",
    "\n",
    "    # read in corresponding df of geocoded address for same year and select only columns of interest\n",
    "    df_2 = pd.read_csv('data/geocoded_addresses_'+year+'.csv')\n",
    "    df_2['postcode'] = df_2['postcode'].astype(str)\n",
    "    df_2 = df_2[['accuracy','formatted_address','postcode','latitude','longitude']]\n",
    "    \n",
    "    # left join to df_1 on index\n",
    "    df_merge = df_1.join(df_2)\n",
    "    \n",
    "    # store DataFrame in list\n",
    "    sh_df_geocoded.append(df_merge)\n",
    "\n",
    "# concatenate DataFrames in list together\n",
    "sh_df_geocoded = pd.concat(sh_df_geocoded)\n",
    "\n",
    "# adding column that shows # of years patient has been coming to clinic\n",
    "sh_df_geocoded['NumYears'] = sh_df_geocoded['Year_LastVisit'].astype(int) - sh_df_geocoded['Year_FirstVisit'].astype(int)\n",
    "\n",
    "# select columns on interest\n",
    "sh_df_geocoded = sh_df_geocoded[['UID', 'Language','Preferred Provider', 'Year_FirstVisit', 'Year_LastVisit','Visit_Count','Active','NumYears', 'accuracy', 'postcode', 'formatted_address', 'latitude',\n",
    "       'longitude']]\n",
    "\n",
    "# selecting first 5 digits of postal code column\n",
    "sh_df_geocoded['postcode'] = sh_df_geocoded.postcode.str[0:5]"
   ]
  },
  {
   "cell_type": "code",
   "execution_count": null,
   "metadata": {},
   "outputs": [],
   "source": [
    "# Haversine formula example in Python\n",
    "# Author: Wayne Dyck (Adapted code from: https://gist.github.com/rochacbruno/2883505)\n",
    "# Calculate distances in miles from origin passed in\n",
    "\n",
    "import math\n",
    "\n",
    "def distance(origin, destination):\n",
    "    lat1, lon1 = origin\n",
    "    lat2, lon2 = destination\n",
    "    radius = 3959 # mi\n",
    "\n",
    "    dlat = math.radians(lat2-lat1)\n",
    "    dlon = math.radians(lon2-lon1)\n",
    "    a = math.sin(dlat/2) * math.sin(dlat/2) + math.cos(math.radians(lat1)) \\\n",
    "        * math.cos(math.radians(lat2)) * math.sin(dlon/2) * math.sin(dlon/2)\n",
    "    c = 2 * math.atan2(math.sqrt(a), math.sqrt(1-a))\n",
    "    d = radius * c\n",
    "\n",
    "    return round(d,3)"
   ]
  },
  {
   "cell_type": "markdown",
   "metadata": {},
   "source": [
    "### Use distance function to compare distances of patient residencies from existing clinic location with distances from potential satellite location. "
   ]
  },
  {
   "cell_type": "code",
   "execution_count": null,
   "metadata": {},
   "outputs": [],
   "source": [
    "# Add column with distance from SH\n",
    "sh_location = (36.1187865, -86.778333)\n",
    "sh_df_geocoded['Dist_from_SH'] = sh_df_geocoded.apply(lambda x: distance(sh_location,(x['latitude'],x['longitude'])), axis=1)\n",
    "\n",
    "# Add column with distance from potential satellite location\n",
    "potential_location = (36.0704611,-86.6344346)\n",
    "sh_df_geocoded['Dist_from_NewSite'] = sh_df_geocoded.apply(lambda x: distance(potential_location,(x['latitude'],x['longitude'])), axis=1)\n",
    "\n",
    "# remove some additional 'bad' records (did not geocode appropriately)\n",
    "sh_df_geocoded = sh_df_geocoded.loc[sh_df_geocoded.Dist_from_SH < 300]"
   ]
  },
  {
   "cell_type": "code",
   "execution_count": null,
   "metadata": {},
   "outputs": [],
   "source": [
    "# Cluster distances into buckets\n",
    "\n",
    "def distance_bucket(value):\n",
    "    if value <= 2:\n",
    "        return 'within 2'\n",
    "    elif value <= 5:\n",
    "        return 'within 5'\n",
    "    elif value <= 8:\n",
    "        return 'within 8'\n",
    "    elif value <= 10:\n",
    "        return 'within 10'\n",
    "    elif value <= 15:\n",
    "        return 'within 15'\n",
    "    elif value <= 20:\n",
    "        return 'within 20'\n",
    "    else:\n",
    "        return 'over 20'"
   ]
  },
  {
   "cell_type": "code",
   "execution_count": null,
   "metadata": {},
   "outputs": [],
   "source": [
    "# Apply distance bucket to both SH and New Location (NL) site.\n",
    "sh_df_geocoded['SH_Dist_Bucket'] = sh_df_geocoded['Dist_from_SH'].apply(lambda x: distance_bucket(x))\n",
    "sh_df_geocoded['NL_Dist_Bucket'] = sh_df_geocoded['Dist_from_NewSite'].apply(lambda x: distance_bucket(x))"
   ]
  },
  {
   "cell_type": "code",
   "execution_count": null,
   "metadata": {},
   "outputs": [],
   "source": [
    "# Profile Report: Overview of Loaded & Cleaned Data\n",
    "pandas_profiling.ProfileReport(sh_df_geocoded)"
   ]
  }
 ],
 "metadata": {
  "kernelspec": {
   "display_name": "Python 3",
   "language": "python",
   "name": "python3"
  },
  "language_info": {
   "codemirror_mode": {
    "name": "ipython",
    "version": 3
   },
   "file_extension": ".py",
   "mimetype": "text/x-python",
   "name": "python",
   "nbconvert_exporter": "python",
   "pygments_lexer": "ipython3",
   "version": "3.6.5"
  }
 },
 "nbformat": 4,
 "nbformat_minor": 2
}
