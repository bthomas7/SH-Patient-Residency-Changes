{
 "cells": [
  {
   "cell_type": "markdown",
   "metadata": {},
   "source": [
    "## Mapping SH Clinic Data"
   ]
  },
  {
   "cell_type": "code",
   "execution_count": null,
   "metadata": {},
   "outputs": [],
   "source": [
    "import folium\n",
    "from folium import plugins\n",
    "from folium.plugins import HeatMap\n",
    "from folium.plugins import MarkerCluster\n",
    "import pandas as pd\n",
    "import pandas_profiling\n",
    "\n",
    "%matplotlib inline"
   ]
  },
  {
   "cell_type": "markdown",
   "metadata": {},
   "source": [
    "### Read in Cleaned Siloam Data \n",
    "(from 'Loading & Cleaning SH Data.ipynb' notebook)"
   ]
  },
  {
   "cell_type": "code",
   "execution_count": null,
   "metadata": {},
   "outputs": [],
   "source": [
    "sh_df_geocoded = pd.read_csv('data/sh_df_geocoded.csv')\n",
    "year_list = ['2011','2012','2013','2014','2015','2016','2017','2018']"
   ]
  },
  {
   "cell_type": "code",
   "execution_count": null,
   "metadata": {},
   "outputs": [],
   "source": [
    "# location of SH clinic\n",
    "sh_lat =  36.1187865\n",
    "sh_lon = -86.778333"
   ]
  },
  {
   "cell_type": "markdown",
   "metadata": {},
   "source": [
    "### Use folium with HeatMapWithTime to create heatmap of data per year of patient's first visit."
   ]
  },
  {
   "cell_type": "code",
   "execution_count": null,
   "metadata": {},
   "outputs": [],
   "source": [
    "# Use dataframe with all data, but drop records with null geolocation\n",
    "df = sh_df_geocoded.dropna()"
   ]
  },
  {
   "cell_type": "code",
   "execution_count": null,
   "metadata": {},
   "outputs": [],
   "source": [
    "hm_over_time = folium.Map(location = [sh_lat, sh_lon], zoom_start = 10.25)\n",
    "map_data = hm_over_time\n",
    "\n",
    "# Iterate over each year of geocoded data\n",
    "heat_data = [[[row['latitude'],row['longitude']] for index,\\\n",
    "              row in df[df['Year_FirstVisit'].astype(str) == i ].iterrows()] for i in year_list]\n",
    "\n",
    "# Plot data on map\n",
    "hm = plugins.HeatMapWithTime(heat_data,auto_play=True,max_opacity=0.8)\n",
    "hm.add_to(map_data)\n",
    "\n",
    "# Add marker for SH Location\n",
    "marker1 = folium.Marker(location = [sh_lat, sh_lon] \n",
    "                    , icon=folium.Icon(color = 'blue',icon_color='white',prefix='fa',icon='fa-plus-square'))\n",
    "    \n",
    "marker1.add_to(map_data)\n",
    "\n",
    "print(map_data.save(\"Patient_Residency_HeatMap_Over_Time.html\"))"
   ]
  },
  {
   "cell_type": "markdown",
   "metadata": {},
   "source": [
    "### Look at folium HeatMap of active patients with visits in last 3 years."
   ]
  },
  {
   "cell_type": "code",
   "execution_count": null,
   "metadata": {},
   "outputs": [],
   "source": [
    "# Subset data to look at only active patients that have visited the clinic in the last 3 years \n",
    "RecentActivePatients = sh_df_geocoded.loc[(sh_df_geocoded['Year_LastVisit'].isin(['2016','2017','2018'])) \\\n",
    "                                          & (sh_df_geocoded['Active']=='Y')].dropna()"
   ]
  },
  {
   "cell_type": "code",
   "execution_count": null,
   "metadata": {},
   "outputs": [],
   "source": [
    "df = RecentActivePatients\n",
    "hm_active_patients = folium.Map(location = [sh_lat, sh_lon], zoom_start = 10.25)\n",
    "map_data = hm_active_patients\n",
    "\n",
    "\n",
    "heat_data = [[row['latitude'],row['longitude']] for index, row in df.iterrows()]\n",
    "\n",
    "# Plot data on map\n",
    "HeatMap(heat_data,min_opacity = 0.2).add_to(map_data)\n",
    "\n",
    "# Add marker for SH location\n",
    "marker0 = folium.Marker(location = [sh_lat, sh_lon] \n",
    "                    , icon=folium.Icon(color = 'blue',icon_color='white',prefix='fa',icon='fa-plus-square'))\n",
    "    \n",
    "marker0.add_to(map_data)\n",
    "\n",
    "print(map_data.save(\"Patient_Residency_HeatMap_ActivePts.html\"))"
   ]
  },
  {
   "cell_type": "markdown",
   "metadata": {},
   "source": [
    "### Map data points of geolocation colored by distance bucket compared to both the SH & new site locations. "
   ]
  },
  {
   "cell_type": "code",
   "execution_count": null,
   "metadata": {},
   "outputs": [],
   "source": [
    "# Create color bands of data points based on distance bucket\n",
    "def dist_color(value):\n",
    "    if value == 'within 2':\n",
    "        return '#37d9e8'\n",
    "    elif value == 'within 5':\n",
    "        return '#e89237'\n",
    "    elif value == 'within 8':\n",
    "        return '#a32175'\n",
    "    elif value == 'within 10':\n",
    "        return '#c6c676'\n",
    "    elif value == 'within 15':\n",
    "        return '#d17f7d'\n",
    "    elif value == 'within 20':\n",
    "        return '#0d94a3'\n",
    "    else:\n",
    "        return '#000080'"
   ]
  },
  {
   "cell_type": "code",
   "execution_count": null,
   "metadata": {},
   "outputs": [],
   "source": [
    "# Apply dist_color function to both SH and NL buckets\n",
    "sh_df_geocoded['SH_Dist_Color'] = sh_df_geocoded['SH_Dist_Bucket'].apply(lambda x: dist_color(x))\n",
    "sh_df_geocoded['NL_Dist_Color'] = sh_df_geocoded['NL_Dist_Bucket'].apply(lambda x: dist_color(x))"
   ]
  },
  {
   "cell_type": "code",
   "execution_count": null,
   "metadata": {},
   "outputs": [],
   "source": [
    "# coordinates of new location\n",
    "nl_lat =  36.0704611\n",
    "nl_lon = -86.6344346"
   ]
  },
  {
   "cell_type": "code",
   "execution_count": null,
   "metadata": {},
   "outputs": [],
   "source": [
    "# Map SH Location and patient residencies colored by distance buckets\n",
    "sh_map_by_dist = folium.Map(location = [sh_lat, sh_lon], zoom_start = 10.25)\n",
    "map_data = sh_map_by_dist\n",
    "\n",
    "# Maps colored data points of patient residences\n",
    "for row in df.iterrows():\n",
    "    row_values = row[1] \n",
    "    location = [row_values['latitude'], row_values['longitude']]\n",
    "    marker = folium.CircleMarker(location=location\n",
    "                                 ,color=row_values['SH_Dist_Color']\n",
    "                                 ,radius=5\n",
    "                                 ,fill=True\n",
    "                                 ,fill_color=row_values['SH_Dist_Color']\n",
    "                                 ,fill_opacity=0.8\n",
    "                                 ,opacity=0.7)\n",
    "    marker.add_to(map_data)\n",
    "\n",
    "# Add marker for SH Location\n",
    "marker0 = folium.Marker(location = [sh_lat, sh_lon] \n",
    "                    , icon=folium.Icon(color = 'blue',icon_color='white',prefix='fa',icon='fa-plus-square'))\n",
    "\n",
    "marker0.add_to(map_data)\n",
    "\n",
    "print(map_data.save(\"Patient_Residency_ActivePt_SH_Bucket_SH_marker_only.html\"))"
   ]
  },
  {
   "cell_type": "code",
   "execution_count": null,
   "metadata": {},
   "outputs": [],
   "source": [
    "# Map new site Location and patient residencies colored by distance buckets\n",
    "nl_map_by_dist = folium.Map(location = [sh_lat, sh_lon], zoom_start = 10.25)\n",
    "map_data = nl_map_by_dist\n",
    "\n",
    "for row in df.iterrows():\n",
    "    row_values = row[1] \n",
    "    location = [row_values['latitude'], row_values['longitude']]\n",
    "    marker = folium.CircleMarker(location=location\n",
    "                                 ,color=row_values['NL_Dist_Color']\n",
    "                                 ,radius=5\n",
    "                                 ,fill=True\n",
    "                                 ,fill_color=row_values['NL_Dist_Color']\n",
    "                                 ,fill_opacity=0.8\n",
    "                                 ,opacity=0.7)\n",
    "    marker.add_to(map_data)\n",
    "\n",
    "# Add marker for SH Location\n",
    "marker0 = folium.Marker(location = [sh_lat, sh_lon] \n",
    "                    , icon=folium.Icon(color = 'blue',icon_color='white',prefix='fa',icon='fa-plus-square'))\n",
    "\n",
    "# Add marker for Potential New Location\n",
    "marker1 = folium.Marker(location = [nl_lat, nl_lon] \n",
    "                    , icon=folium.Icon(color = 'green',icon_color='white',prefix='fa',icon='fa-plus-square'))\n",
    "\n",
    "marker0.add_to(map_data)\n",
    "marker1.add_to(map_data)\n",
    "\n",
    "print(map_data.save(\"Patient_Residency_ActivePt_NL_Bucket.html\"))"
   ]
  },
  {
   "cell_type": "code",
   "execution_count": null,
   "metadata": {},
   "outputs": [],
   "source": [
    "# Number of patients in each bucket\n",
    "print(RecentActivePatients['SH_Dist_Bucket'].value_counts())\n",
    "print('----------------------------------')\n",
    "print(RecentActivePatients['NL_Dist_Bucket'].value_counts())"
   ]
  }
 ],
 "metadata": {
  "kernelspec": {
   "display_name": "Python 3",
   "language": "python",
   "name": "python3"
  },
  "language_info": {
   "codemirror_mode": {
    "name": "ipython",
    "version": 3
   },
   "file_extension": ".py",
   "mimetype": "text/x-python",
   "name": "python",
   "nbconvert_exporter": "python",
   "pygments_lexer": "ipython3",
   "version": "3.6.5"
  }
 },
 "nbformat": 4,
 "nbformat_minor": 2
}
